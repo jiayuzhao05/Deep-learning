{
  "cells": [
    {
      "cell_type": "markdown",
      "metadata": {
        "id": "view-in-github",
        "colab_type": "text"
      },
      "source": [
        "<a href=\"https://colab.research.google.com/github/jiayuzhao05/Deep-learning/blob/main/Pytorch/Tutorial4.ipynb\" target=\"_parent\"><img src=\"https://colab.research.google.com/assets/colab-badge.svg\" alt=\"Open In Colab\"/></a>"
      ]
    },
    {
      "cell_type": "markdown",
      "metadata": {
        "id": "D_ErxnH8HK4J"
      },
      "source": [
        "# Tutorial4: Convolutional Layers - Spectral methods"
      ]
    },
    {
      "cell_type": "markdown",
      "metadata": {
        "id": "tHhtjFBpHK4L"
      },
      "source": [
        "## Outline"
      ]
    },
    {
      "cell_type": "markdown",
      "metadata": {
        "id": "blqWhS26HK4M"
      },
      "source": [
        "- Why convolution in ML\n",
        "- Some theory on convolution\n",
        "- Convolution on graphs\n",
        "- Spectral-convolutional layers in PyTorch Geometric"
      ]
    },
    {
      "cell_type": "code",
      "execution_count": 1,
      "metadata": {
        "id": "btzUr-ONHK4M",
        "outputId": "29f2147f-c552-44e3-d8ec-bd22579c02fc",
        "colab": {
          "base_uri": "https://localhost:8080/"
        }
      },
      "outputs": [
        {
          "output_type": "stream",
          "name": "stdout",
          "text": [
            "2.6.0+cu124\n",
            "\u001b[2K     \u001b[90m━━━━━━━━━━━━━━━━━━━━━━━━━━━━━━━━━━━━━━━━\u001b[0m \u001b[32m10.8/10.8 MB\u001b[0m \u001b[31m59.9 MB/s\u001b[0m eta \u001b[36m0:00:00\u001b[0m\n",
            "\u001b[2K     \u001b[90m━━━━━━━━━━━━━━━━━━━━━━━━━━━━━━━━━━━━━━━━\u001b[0m \u001b[32m5.0/5.0 MB\u001b[0m \u001b[31m34.4 MB/s\u001b[0m eta \u001b[36m0:00:00\u001b[0m\n",
            "\u001b[?25h  Installing build dependencies ... \u001b[?25l\u001b[?25hdone\n",
            "  Getting requirements to build wheel ... \u001b[?25l\u001b[?25hdone\n",
            "  Preparing metadata (pyproject.toml) ... \u001b[?25l\u001b[?25hdone\n",
            "  Building wheel for torch-geometric (pyproject.toml) ... \u001b[?25l\u001b[?25hdone\n"
          ]
        }
      ],
      "source": [
        "import os\n",
        "import torch\n",
        "os.environ['TORCH'] = torch.__version__\n",
        "print(torch.__version__)\n",
        "\n",
        "!pip install -q torch-scatter -f https://data.pyg.org/whl/torch-${TORCH}.html\n",
        "!pip install -q torch-sparse -f https://data.pyg.org/whl/torch-${TORCH}.html\n",
        "!pip install -q git+https://github.com/pyg-team/pytorch_geometric.git"
      ]
    },
    {
      "cell_type": "markdown",
      "metadata": {
        "id": "SbxsHbD2HK4O"
      },
      "source": [
        "## Imports"
      ]
    },
    {
      "cell_type": "code",
      "execution_count": 2,
      "metadata": {
        "id": "o0FeGxt7HK4O"
      },
      "outputs": [],
      "source": [
        "import numpy as np\n",
        "import matplotlib.pyplot as plt\n",
        "plt.rcParams.update({'font.size': 16})"
      ]
    },
    {
      "cell_type": "markdown",
      "metadata": {
        "id": "GUhUAdO0HK4P"
      },
      "source": [
        "## Why convolution in ML"
      ]
    },
    {
      "cell_type": "markdown",
      "metadata": {
        "id": "5VRk-XytHK4P"
      },
      "source": [
        "- Weight sharing\n",
        "- Detection of translational invariant and local features"
      ]
    },
    {
      "cell_type": "markdown",
      "metadata": {
        "id": "RXY7iiq5HK4Q"
      },
      "source": [
        "![](https://github.com/AntonioLonga/PytorchGeometricTutorial/blob/main/Tutorial4/fig/fully_connected.png?raw=1)\n",
        "[Source](https://missinglink.ai/guides/convolutional-neural-networks/fully-connected-layers-convolutional-neural-networks-complete-guide/)"
      ]
    },
    {
      "cell_type": "markdown",
      "metadata": {
        "id": "k3DH4TuvHK4Q"
      },
      "source": [
        "![](https://github.com/AntonioLonga/PytorchGeometricTutorial/blob/main/Tutorial4/fig/cnn.gif?raw=1)\n",
        "[Source](https://commons.wikimedia.org/wiki/File:Convolutional_Neural_Network.gif)"
      ]
    },
    {
      "cell_type": "markdown",
      "metadata": {
        "id": "QSYpLwrrHK4R"
      },
      "source": [
        "![](https://github.com/AntonioLonga/PytorchGeometricTutorial/blob/main/Tutorial4/fig/Convolution.png?raw=1)\n",
        "[Source](https://commons.wikimedia.org/wiki/File:Convolution.PNG)"
      ]
    },
    {
      "cell_type": "markdown",
      "metadata": {
        "id": "X_lfOP0GHK4R"
      },
      "source": [
        "## Some theory on convolution"
      ]
    },
    {
      "cell_type": "markdown",
      "metadata": {
        "id": "Sk9FwY26HK4R"
      },
      "source": [
        "![](https://github.com/AntonioLonga/PytorchGeometricTutorial/blob/main/Tutorial4/fig/Convolution_of_box_signal_with_itself2.gif?raw=1)\n",
        "[Source](https://en.wikipedia.org/wiki/File:Convolution_of_box_signal_with_itself2.gif)"
      ]
    },
    {
      "cell_type": "markdown",
      "metadata": {
        "id": "nO6BgT9MHK4R"
      },
      "source": [
        "### Definition"
      ]
    },
    {
      "cell_type": "markdown",
      "metadata": {
        "id": "HUWfTte0HK4R"
      },
      "source": [
        "\\begin{align*}\n",
        "c[n] = (v * w)[n] = \\sum_{m=0}^{N-1} v[m] \\cdot w[n-m]\n",
        "\\end{align*}"
      ]
    },
    {
      "cell_type": "code",
      "execution_count": 3,
      "metadata": {
        "id": "CpeYDEjwHK4R"
      },
      "outputs": [],
      "source": [
        "def conv(v, w):\n",
        "    c = np.zeros(v.shape)\n",
        "    for n in range(len(v)):\n",
        "        c[n] = 0\n",
        "        for m in range(len(v)):\n",
        "            c[n] += v[m] * w[n - m]\n",
        "    return c"
      ]
    },
    {
      "cell_type": "code",
      "execution_count": 4,
      "metadata": {
        "id": "KV8peoa-HK4R",
        "outputId": "beeca58b-2e74-44f3-b55e-a03911f9004f",
        "colab": {
          "base_uri": "https://localhost:8080/",
          "height": 436
        }
      },
      "outputs": [
        {
          "output_type": "display_data",
          "data": {
            "text/plain": [
              "<Figure size 640x480 with 1 Axes>"
            ],
            "image/png": "[encoded data removed]"
          },
          "metadata": {}
        }
      ],
      "source": [
        "N = 20\n",
        "v = np.zeros(N)\n",
        "v[8:12] = 1\n",
        "w = np.zeros(N)\n",
        "w[1:5] = 1\n",
        "c = conv(v, w)\n",
        "\n",
        "fig = plt.figure()\n",
        "ax = fig.gca()\n",
        "ax.plot(v, '.-')\n",
        "ax.plot(w, '.-')\n",
        "ax.plot(c, '.-')\n",
        "ax.legend(['v', 'w', 'c'])\n",
        "ax.grid(True)"
      ]
    },
    {
      "cell_type": "markdown",
      "metadata": {
        "id": "RrC7NAHwHK4R"
      },
      "source": [
        "### Fourier transform"
      ]
    },
    {
      "cell_type": "markdown",
      "metadata": {
        "id": "i5dLx-lGHK4R"
      },
      "source": [
        "Transformation $\\mathcal F: \\mathbb{R}^N \\to \\mathbb{R}^N$ with\n",
        "\n",
        "\\begin{align*}\n",
        "\\mathcal F^{-1}(\\mathcal F (v)) &= v\\\\\n",
        "\\mathcal F(v * w) &= \\mathcal F(v) \\cdot \\mathcal F(w).\n",
        "\\end{align*}"
      ]
    },
    {
      "cell_type": "markdown",
      "metadata": {
        "id": "NV10gUfpHK4S"
      },
      "source": [
        "This implies\n",
        "\\begin{align*}\n",
        "v * w &= \\mathcal F^{-1}(\\mathcal F (v * w))\\\\\n",
        "&= \\mathcal F^{-1}(\\mathcal F(v) \\cdot \\mathcal F(w))\n",
        "\\end{align*}"
      ]
    },
    {
      "cell_type": "code",
      "execution_count": 5,
      "metadata": {
        "id": "1f4vww2zHK4S",
        "outputId": "2c70a60e-a336-4c2a-f162-566f1150b0be",
        "colab": {
          "base_uri": "https://localhost:8080/"
        }
      },
      "outputs": [
        {
          "output_type": "execute_result",
          "data": {
            "text/plain": [
              "array([4.56533912, 3.5323014 , 3.72352031, 4.09783471, 4.90800807,\n",
              "       4.25948217, 3.56173536, 3.82990645, 4.27839544, 4.80033232,\n",
              "       4.02566581, 4.35688061, 4.29030464, 4.25853061, 4.91470851,\n",
              "       4.32416003, 4.2238044 , 3.80442586, 3.71073042, 4.69027234])"
            ]
          },
          "metadata": {},
          "execution_count": 5
        }
      ],
      "source": [
        "v, w = np.random.rand(N), np.random.rand(N)\n",
        "conv(v, w)"
      ]
    },
    {
      "cell_type": "code",
      "execution_count": 6,
      "metadata": {
        "id": "UOvJdMNCHK4S",
        "outputId": "f36d91f8-5d6d-444f-ec7f-3ef9b48ea6fd",
        "colab": {
          "base_uri": "https://localhost:8080/"
        }
      },
      "outputs": [
        {
          "output_type": "execute_result",
          "data": {
            "text/plain": [
              "array([4.56533912, 3.5323014 , 3.72352031, 4.09783471, 4.90800807,\n",
              "       4.25948217, 3.56173536, 3.82990645, 4.27839544, 4.80033232,\n",
              "       4.02566581, 4.35688061, 4.29030464, 4.25853061, 4.91470851,\n",
              "       4.32416003, 4.2238044 , 3.80442586, 3.71073042, 4.69027234])"
            ]
          },
          "metadata": {},
          "execution_count": 6
        }
      ],
      "source": [
        "from scipy.fft import fft, ifft # Fast Fourier Transform / Inverse FFT\n",
        "np.abs(ifft(fft(v) * fft(w)))"
      ]
    },
    {
      "cell_type": "markdown",
      "metadata": {
        "id": "8bZJH4hNHK4S"
      },
      "source": [
        "### Definition of the Fourier transform"
      ]
    },
    {
      "cell_type": "markdown",
      "metadata": {
        "id": "Usmo2p15HK4S"
      },
      "source": [
        "The Fourier transform can be computed as\n",
        "\n",
        "\\begin{align*}\n",
        "\\mathcal F(v) = U\\cdot v, \\;\\;\\mathcal F^{-1}(v) = \\frac{1}{N}\\ U^H \\cdot v\n",
        "\\end{align*}\n",
        "\n",
        "where the $N\\times N$ matrix $U$ is defined as\n",
        "\\begin{align*}\n",
        "\\\\\n",
        "U =\n",
        "\\begin{bmatrix}\n",
        "u_0(0) & u_1(0) & \\dots & u_{N-1}(0)\\\\\n",
        "u_0(1) & u_1(1) & \\dots & u_{N-1}(1)\\\\\n",
        "\\vdots & \\vdots& & \\vdots\\\\\n",
        "u_0(N-1) & u_1(N-1) & \\dots & u_{N-1}(N-1)\\\\\n",
        "\\end{bmatrix}\n",
        "\\end{align*}\n",
        "\n",
        "and $u_0, \\dots, u_{N-1}$ are functions defined as\n",
        "\n",
        "\\begin{align*}\n",
        "u_n(x)&:= \\cos\\left(2 \\pi \\frac{n}{N} x\\right) - i \\sin\\left(2 \\pi \\frac{n}{N} x\\right).\n",
        "\\end{align*}"
      ]
    },
    {
      "cell_type": "code",
      "execution_count": 7,
      "metadata": {
        "id": "EsLIlPn0HK4S"
      },
      "outputs": [],
      "source": [
        "def matrix_U(N):\n",
        "    u = lambda n, N: np.cos(2 * np.pi / N * n * np.arange(N)) - 1j * np.sin(2 * np.pi / N * n * np.arange(N))\n",
        "    U = np.empty((N, 0))\n",
        "    for n in range(N):\n",
        "        U = np.c_[U, u(n, N)]\n",
        "    return U\n",
        "\n",
        "\n",
        "def fourier_transform(v):\n",
        "    N = v.shape[0]\n",
        "    U = matrix_U(N)\n",
        "    return U @ v\n",
        "\n",
        "\n",
        "def inverse_fourier_transform(v):\n",
        "    N = v.shape[0]\n",
        "    U = matrix_U(N)\n",
        "    return (U.conj().transpose() @ v) / N"
      ]
    },
    {
      "cell_type": "code",
      "execution_count": 8,
      "metadata": {
        "id": "cSWkouEtHK4S",
        "outputId": "c67a883a-b4a3-4c9a-9de6-7a752a8e8ba9",
        "colab": {
          "base_uri": "https://localhost:8080/"
        }
      },
      "outputs": [
        {
          "output_type": "execute_result",
          "data": {
            "text/plain": [
              "array([ 0.00000000e+00-0.00000000e+00j,  2.22044605e-16-2.22044605e-16j,\n",
              "        4.44089210e-16-2.22044605e-16j, -4.99600361e-16+5.82867088e-16j,\n",
              "        1.49880108e-15+0.00000000e+00j,  4.44089210e-15+1.33226763e-15j,\n",
              "       -2.27595720e-15-1.11022302e-15j, -2.66453526e-15+1.38777878e-15j,\n",
              "        0.00000000e+00+2.44249065e-15j, -3.33066907e-15+6.21724894e-15j,\n",
              "        0.00000000e+00+1.19387108e-15j, -1.33226763e-15-7.77156117e-16j,\n",
              "        2.66453526e-15-3.27515792e-15j, -6.66133815e-15-3.33066907e-15j,\n",
              "       -2.38697950e-15-1.88737914e-15j,  4.44089210e-16+3.55271368e-15j,\n",
              "       -6.66133815e-15+4.44089210e-16j, -1.33226763e-15-1.33920652e-14j,\n",
              "        1.44328993e-15+3.10862447e-15j, -4.99600361e-15+2.66453526e-15j])"
            ]
          },
          "metadata": {},
          "execution_count": 8
        }
      ],
      "source": [
        "fft(v) - fourier_transform(v)"
      ]
    },
    {
      "cell_type": "code",
      "execution_count": 9,
      "metadata": {
        "id": "Q3fqQ6FZHK4S",
        "outputId": "05f8bf3c-f1db-49cd-8cd4-b9eb24f168fc",
        "colab": {
          "base_uri": "https://localhost:8080/"
        }
      },
      "outputs": [
        {
          "output_type": "execute_result",
          "data": {
            "text/plain": [
              "array([ 0.00000000e+00-0.00000000e+00j,  1.73472348e-17-2.77555756e-17j,\n",
              "        1.69135539e-17+2.08166817e-17j, -1.73472348e-17-1.73472348e-17j,\n",
              "        7.28583860e-17+0.00000000e+00j,  2.15105711e-16-5.55111512e-17j,\n",
              "       -1.11022302e-16+6.24500451e-17j, -1.45716772e-16-8.67361738e-17j,\n",
              "        0.00000000e+00-1.05818132e-16j, -1.52655666e-16-3.03576608e-16j,\n",
              "       -1.21430643e-17-5.96935539e-17j, -6.24500451e-17+4.16333634e-17j,\n",
              "        1.24900090e-16+1.56125113e-16j, -3.53883589e-16+1.59594560e-16j,\n",
              "       -1.17961196e-16+8.67361738e-17j,  2.08166817e-17-1.76941795e-16j,\n",
              "       -3.46944695e-16-4.16333634e-17j, -5.55111512e-17+6.49653942e-16j,\n",
              "        9.45424294e-17-1.52655666e-16j, -2.39391840e-16-1.94289029e-16j])"
            ]
          },
          "metadata": {},
          "execution_count": 9
        }
      ],
      "source": [
        "ifft(v) - inverse_fourier_transform(v)"
      ]
    },
    {
      "cell_type": "markdown",
      "metadata": {
        "id": "D_rXicjzHK4T"
      },
      "source": [
        "### Connection with the Laplacian"
      ]
    },
    {
      "cell_type": "markdown",
      "metadata": {
        "id": "5BwAMuS3HK4T"
      },
      "source": [
        "The functions $u_n$ (the columns of the Fourier transform matrix) are eigenvectors of the Laplacian:\n",
        "\n",
        "\\begin{align*}\n",
        "u_n(x)&:= \\cos\\left(2 \\pi \\frac{n}{N} x\\right) - i \\sin\\left(2 \\pi \\frac{n}{N} x\\right)\\\\\n",
        "\\Delta u_n(x)&:= \\left(-4 \\pi ^ 2\\frac{n^2}{N^2}\\right) u_n(x)\n",
        "\\end{align*}"
      ]
    },
    {
      "cell_type": "markdown",
      "metadata": {
        "id": "zyWE6x_DHK4T"
      },
      "source": [
        "### Summary"
      ]
    },
    {
      "cell_type": "markdown",
      "metadata": {
        "id": "qqSoTOg0HK4T"
      },
      "source": [
        "\\begin{align*}\n",
        "v * w\n",
        "= U^H ((U  w) \\odot (U  v))\n",
        "\\end{align*}\n",
        "\n",
        "or if $g_w=\\mbox{diag}(U w)$ is  filter\n",
        "\\begin{align*}\n",
        "v * w\n",
        "= U^H g_w U  w\n",
        "\\end{align*}"
      ]
    },
    {
      "cell_type": "code",
      "execution_count": 10,
      "metadata": {
        "id": "TA3ECGdgHK4T",
        "outputId": "590dd0b3-21bf-4dd0-8c10-eb335780ad07",
        "colab": {
          "base_uri": "https://localhost:8080/"
        }
      },
      "outputs": [
        {
          "output_type": "execute_result",
          "data": {
            "text/plain": [
              "array([4.56533912, 3.5323014 , 3.72352031, 4.09783471, 4.90800807,\n",
              "       4.25948217, 3.56173536, 3.82990645, 4.27839544, 4.80033232,\n",
              "       4.02566581, 4.35688061, 4.29030464, 4.25853061, 4.91470851,\n",
              "       4.32416003, 4.2238044 , 3.80442586, 3.71073042, 4.69027234])"
            ]
          },
          "metadata": {},
          "execution_count": 10
        }
      ],
      "source": [
        "U = matrix_U(N)\n",
        "np.abs((U.conj().transpose() / N) @ ((U @ v) * (U @ w)))"
      ]
    },
    {
      "cell_type": "code",
      "execution_count": 11,
      "metadata": {
        "id": "sgjJf9CQHK4T",
        "outputId": "8159784d-2088-44d3-d460-206ebf655d1c",
        "colab": {
          "base_uri": "https://localhost:8080/"
        }
      },
      "outputs": [
        {
          "output_type": "execute_result",
          "data": {
            "text/plain": [
              "array([4.56533912, 3.5323014 , 3.72352031, 4.09783471, 4.90800807,\n",
              "       4.25948217, 3.56173536, 3.82990645, 4.27839544, 4.80033232,\n",
              "       4.02566581, 4.35688061, 4.29030464, 4.25853061, 4.91470851,\n",
              "       4.32416003, 4.2238044 , 3.80442586, 3.71073042, 4.69027234])"
            ]
          },
          "metadata": {},
          "execution_count": 11
        }
      ],
      "source": [
        "conv(v, w)"
      ]
    },
    {
      "cell_type": "markdown",
      "metadata": {
        "id": "Kx3lUQf_HK4T"
      },
      "source": [
        "## Convolution on graphs"
      ]
    },
    {
      "cell_type": "markdown",
      "metadata": {
        "id": "A2Ap3FtDHK4U"
      },
      "source": [
        "**Plan**:\n",
        "    - Define the graph Laplacian\n",
        "    - Compute the spectrum\n",
        "    - Define a Fourier transform\n",
        "    - Define convolution on a graph"
      ]
    },
    {
      "cell_type": "markdown",
      "metadata": {
        "id": "Jw6GDOSvHK4U"
      },
      "source": [
        "**Note:** From now on $G = (V, E)$ is an undirected, unweighted, simple graph."
      ]
    },
    {
      "cell_type": "markdown",
      "metadata": {
        "id": "yOUBMBtRHK4U"
      },
      "source": [
        "### Graph Laplacian"
      ]
    },
    {
      "cell_type": "markdown",
      "metadata": {
        "id": "uy5_MQQ3HK4U"
      },
      "source": [
        "Adjacency matrix\n",
        "\\begin{align*}\n",
        "A_{ij} = \\left\\{\n",
        "    \\begin{array}{ll}\n",
        "    1 &\\text{ if } e_{ij}\\in E\\\\\n",
        "    0 &\\text{ if } e_{ij}\\notin E\n",
        "    \\end{array}\n",
        "    \\right.\n",
        "\\end{align*}\n",
        "\n",
        "Degree matrix\n",
        "\\begin{align*}\n",
        "D_{ij} = \\left\\{\n",
        "    \\begin{array}{ll}\n",
        "    \\mbox{deg}(v_i) &\\text{ if } i=j\\\\\n",
        "    0 &\\text{ if } i\\neq j\n",
        "    \\end{array}\n",
        "    \\right.\n",
        "\\end{align*}\n",
        "\n",
        "Laplacian\n",
        "\\begin{align*}\n",
        "L &= D - A.\n",
        "\\end{align*}\n",
        "\n",
        "Normalized Laplacian\n",
        "\\begin{align*}\n",
        "L &= I - D^{-1/2} A D^{-1/2}.\n",
        "\\end{align*}"
      ]
    },
    {
      "cell_type": "markdown",
      "metadata": {
        "id": "ocXhU5T4HK4U"
      },
      "source": [
        "### Graph spectrum, Fourier transform, and convolution"
      ]
    },
    {
      "cell_type": "markdown",
      "metadata": {
        "id": "D8XTCthVHK4Z"
      },
      "source": [
        "1. Spectral decomposition of the Laplacian:\n",
        "\\begin{align*}\n",
        "L = U \\Lambda U^T\\\\\n",
        "\\end{align*}\n",
        "\n",
        "\n",
        "2. Fourier transform: if $v$ is a vector of features on the graph, then\n",
        "\\begin{align*}\n",
        "\\mathcal F (v) = U \\cdot v, \\;\\;\\mathcal F^{-1} (v) = U^T \\cdot v\\\\\n",
        "\\end{align*}\n",
        "\n",
        "\n",
        "3. Convolution with a filter $U \\cdot w$\n",
        "\\begin{align*}\n",
        "v * w = U ((U^T  w) \\odot (U^T  v) )\n",
        "\\end{align*}\n",
        "\n",
        "\n",
        "Or $g_w = \\mbox{diag}(U^T w)$ is a filter, then\n",
        "\\begin{align*}\n",
        "v * w = U g_w U^T  v\n",
        "\\end{align*}\n"
      ]
    },
    {
      "cell_type": "markdown",
      "metadata": {
        "id": "2usJ5EdjHK4Z"
      },
      "source": [
        "## Spectral-convolutional layers in PyTorch Geometric"
      ]
    },
    {
      "cell_type": "markdown",
      "metadata": {
        "id": "TDsaag8kHK4Z"
      },
      "source": [
        "**Problem:** Computing the spectrum is a global and very expensive property.\n",
        "\n",
        "**Goal:** Implementation as message passing."
      ]
    },
    {
      "cell_type": "markdown",
      "metadata": {
        "id": "ZOHTkQOfHK4Z"
      },
      "source": [
        "### ChebConv"
      ]
    },
    {
      "cell_type": "markdown",
      "metadata": {
        "id": "F7etYX1cHK4Z"
      },
      "source": [
        "- Original [paper](https://arxiv.org/pdf/1606.09375.pdf)\n",
        "- PyTorch [doc](https://pytorch-geometric.readthedocs.io/en/latest/modules/nn.html#torch_geometric.nn.conv.ChebConv)"
      ]
    },
    {
      "cell_type": "markdown",
      "metadata": {
        "id": "wCwpf1Z8HK4Z"
      },
      "source": [
        "#### Goal:\n",
        "Compute $U g_w U^T x$ with $g_w = g_w(\\Lambda)$ a filter."
      ]
    },
    {
      "cell_type": "markdown",
      "metadata": {
        "id": "idGzcZzzHK4Z"
      },
      "source": [
        "#### Chebyshev approximation\n",
        "\n",
        "Chebyshev polynomials $T_k$:\n",
        "\\begin{align*}\n",
        "T_{k}(x) = 2 x T_{k-1}(x) - T_{k-2}(x), \\;\\; T_0(x) = 1, T_1(x) = x\n",
        "\\end{align*}\n",
        "\n",
        "#### Chebyshev approximation of the filter\n",
        "Aproximation of the filter:\n",
        "\\begin{align*}\n",
        "g_w(\\Lambda) = \\sum_{k=0}^K \\theta_k T_k(\\tilde \\Lambda),\\;\\;\\;\\;\\tilde \\Lambda = \\frac{2}{\\lambda_\\max} \\Lambda - I\n",
        "\\end{align*}\n",
        "\n",
        "\n",
        "#### Property\n",
        "If $L = U \\Lambda U^T$ then $T_k(L) = U T_k(\\Lambda) U^T$.\n"
      ]
    },
    {
      "cell_type": "markdown",
      "metadata": {
        "id": "hpg3K3epHK4a"
      },
      "source": [
        "#### Fast approximated convolution\n",
        "\\begin{align*}\n",
        "v * w &= U g_w U^T x\n",
        "= U \\left(\\sum_{k=0}^K \\theta_k T_k(\\tilde \\Lambda) \\right)U^T x\n",
        "=\\sum_{k=0}^K  \\theta_k U  T_k(\\tilde \\Lambda) U^T x\\\\\n",
        "&=\\sum_{k=0}^K  \\theta_k T_k(\\tilde L) x\n",
        "\\end{align*}\n",
        "\n",
        "\\begin{align*}\n",
        "\\tilde L = \\frac{2}{\\lambda_\\max} L - I\n",
        "\\end{align*}"
      ]
    },
    {
      "cell_type": "markdown",
      "metadata": {
        "id": "kNL_BR-2HK4a"
      },
      "source": [
        "#### Properties:\n",
        "- Depends on $L$ and $\\lambda_\\max$, not on $U, \\Sigma$\n",
        "- Uses only $K$-powers $\\Rightarrow$ only the $K$-th neighborhood of each node, localized filter"
      ]
    },
    {
      "cell_type": "markdown",
      "metadata": {
        "id": "yzD5yT1KHK4a"
      },
      "source": [
        "**As message passing:**\n",
        "![](https://github.com/AntonioLonga/PytorchGeometricTutorial/blob/main/Tutorial4/fig/cheb_init.png?raw=1)\n",
        "\n",
        "![](https://github.com/AntonioLonga/PytorchGeometricTutorial/blob/main/Tutorial4/fig/cheb_norm.png?raw=1)\n",
        "\n",
        "![](https://github.com/AntonioLonga/PytorchGeometricTutorial/blob/main/Tutorial4/fig/cheb_forward.png?raw=1)\n",
        "\n",
        "![](https://github.com/AntonioLonga/PytorchGeometricTutorial/blob/main/Tutorial4/fig/cheb_message.png?raw=1)"
      ]
    },
    {
      "cell_type": "markdown",
      "metadata": {
        "id": "SanfbRHgHK4a"
      },
      "source": [
        "### GCNConv"
      ]
    },
    {
      "cell_type": "markdown",
      "metadata": {
        "id": "xQgGIcqQHK4a"
      },
      "source": [
        "- Original [paper](https://arxiv.org/pdf/1609.02907.pdf)\n",
        "- PyTorch [doc](https://pytorch-geometric.readthedocs.io/en/latest/modules/nn.html#torch_geometric.nn.conv.GCNConv)"
      ]
    },
    {
      "cell_type": "markdown",
      "metadata": {
        "id": "SmYL7ReLHK4a"
      },
      "source": [
        "Start from `ChebConv` and assume\n",
        "1. $K=1$ (linear approximation) so\n",
        "\\begin{align*}\n",
        "v * w\n",
        "&=\\sum_{k=0}^1  \\theta_k T_k(\\tilde L) x\n",
        "= \\theta_0 x + \\theta_1 \\tilde L x\\\\\n",
        "\\end{align*}\n",
        "\n",
        "2. $\\lambda_\\max =2$ so\n",
        "\\begin{align*}\n",
        "v * w\n",
        "&= \\theta_0 x + \\theta_1 (L - I) x\\\\\n",
        "&= \\theta_0 x - \\theta_1 D^{-1/2} A D^{1/2} x\\\\\n",
        "\\end{align*}\n",
        "\n",
        "\n",
        "3. $\\theta_0=-\\theta_1= \\theta$ so\n",
        "\\begin{align*}\n",
        "v * w = \\left(I + D^{-1/2} A D^{1/2}\\right) x \\theta\n",
        "\\end{align*}\n",
        "\n",
        "4. Renormalization of $\\theta$ by using\n",
        "\\begin{align*}\n",
        "\\tilde A&:= I + A\\\\\n",
        "\\tilde D_{ii}&:= \\sum_j \\tilde A_{ij}\n",
        "\\end{align*}\n",
        "so\n",
        "\\begin{align*}\n",
        "v * w = \\left(D^{-1/2} A D^{1/2}\\right) x \\theta\n",
        "\\end{align*}\n",
        "\n",
        "If $x$ is a $F$-dimensional feature vector, and we want an $F'$-dimensional feature vector as output:\n",
        "use $W'\\in \\mathbb{R}^{F\\times F'}$\n",
        "\\begin{align*}\n",
        "v * w = \\left(D^{-1/2} A D^{1/2}\\right) x \\Theta\n",
        "\\end{align*}\n"
      ]
    },
    {
      "cell_type": "markdown",
      "metadata": {
        "id": "fGnLYXCuHK4a"
      },
      "source": [
        "Nodewise:\n",
        "    ![image.png](https://github.com/AntonioLonga/PytorchGeometricTutorial/blob/main/Tutorial4/fig/gcn_nodewise.png?raw=1)"
      ]
    },
    {
      "cell_type": "markdown",
      "metadata": {
        "id": "lBBcHUgQHK4a"
      },
      "source": [
        "#### As message passing\n",
        "See Tutorial3"
      ]
    }
  ],
  "metadata": {
    "kernelspec": {
      "display_name": "Python 3",
      "language": "python",
      "name": "python3"
    },
    "language_info": {
      "codemirror_mode": {
        "name": "ipython",
        "version": 3
      },
      "file_extension": ".py",
      "mimetype": "text/x-python",
      "name": "python",
      "nbconvert_exporter": "python",
      "pygments_lexer": "ipython3",
      "version": "3.9.12"
    },
    "colab": {
      "provenance": [],
      "include_colab_link": true
    }
  },
  "nbformat": 4,
  "nbformat_minor": 0
}