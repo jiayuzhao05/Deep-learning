{
  "cells": [
    {
      "cell_type": "markdown",
      "metadata": {
        "id": "view-in-github",
        "colab_type": "text"
      },
      "source": [
        "<a href=\"https://colab.research.google.com/github/jiayuzhao05/Deep-learning/blob/main/Pytorch/Tutorial1.ipynb\" target=\"_parent\"><img src=\"https://colab.research.google.com/assets/colab-badge.svg\" alt=\"Open In Colab\"/></a>"
      ]
    },
    {
      "cell_type": "code",
      "execution_count": 1,
      "metadata": {
        "id": "9Es8B4mRgdnp",
        "outputId": "5c2ca017-f326-4c3f-b46d-1a4387c1155d",
        "colab": {
          "base_uri": "https://localhost:8080/"
        }
      },
      "outputs": [
        {
          "output_type": "stream",
          "name": "stdout",
          "text": [
            "2.6.0+cu124\n",
            "\u001b[2K     \u001b[90m━━━━━━━━━━━━━━━━━━━━━━━━━━━━━━━━━━━━━━━━\u001b[0m \u001b[32m10.8/10.8 MB\u001b[0m \u001b[31m55.5 MB/s\u001b[0m eta \u001b[36m0:00:00\u001b[0m\n",
            "\u001b[2K     \u001b[90m━━━━━━━━━━━━━━━━━━━━━━━━━━━━━━━━━━━━━━━━\u001b[0m \u001b[32m5.0/5.0 MB\u001b[0m \u001b[31m22.7 MB/s\u001b[0m eta \u001b[36m0:00:00\u001b[0m\n",
            "\u001b[?25h  Installing build dependencies ... \u001b[?25l\u001b[?25hdone\n",
            "  Getting requirements to build wheel ... \u001b[?25l\u001b[?25hdone\n",
            "  Preparing metadata (pyproject.toml) ... \u001b[?25l\u001b[?25hdone\n",
            "  Building wheel for torch-geometric (pyproject.toml) ... \u001b[?25l\u001b[?25hdone\n"
          ]
        }
      ],
      "source": [
        "import os\n",
        "import torch\n",
        "os.environ['TORCH'] = torch.__version__\n",
        "print(torch.__version__)\n",
        "\n",
        "!pip install -q torch-scatter -f https://data.pyg.org/whl/torch-${TORCH}.html\n",
        "!pip install -q torch-sparse -f https://data.pyg.org/whl/torch-${TORCH}.html\n",
        "!pip install -q git+https://github.com/pyg-team/pytorch_geometric.git"
      ]
    },
    {
      "cell_type": "code",
      "execution_count": 2,
      "metadata": {
        "id": "JjT3tv03gdns"
      },
      "outputs": [],
      "source": [
        "import torch_geometric\n",
        "from torch_geometric.datasets import Planetoid"
      ]
    },
    {
      "cell_type": "code",
      "execution_count": 3,
      "metadata": {
        "id": "hxJX1vNkgdnt"
      },
      "outputs": [],
      "source": [
        "use_cuda_if_available = False"
      ]
    },
    {
      "cell_type": "markdown",
      "metadata": {
        "id": "XPlYAablgdnt"
      },
      "source": [
        "# Load the dataset"
      ]
    },
    {
      "cell_type": "code",
      "execution_count": 4,
      "metadata": {
        "id": "WyphOLSogdnu",
        "outputId": "bf3cea4a-6564-4d58-9d05-0b26e2511b07",
        "colab": {
          "base_uri": "https://localhost:8080/"
        }
      },
      "outputs": [
        {
          "output_type": "stream",
          "name": "stderr",
          "text": [
            "Downloading https://github.com/kimiyoung/planetoid/raw/master/data/ind.cora.x\n",
            "Downloading https://github.com/kimiyoung/planetoid/raw/master/data/ind.cora.tx\n",
            "Downloading https://github.com/kimiyoung/planetoid/raw/master/data/ind.cora.allx\n",
            "Downloading https://github.com/kimiyoung/planetoid/raw/master/data/ind.cora.y\n",
            "Downloading https://github.com/kimiyoung/planetoid/raw/master/data/ind.cora.ty\n",
            "Downloading https://github.com/kimiyoung/planetoid/raw/master/data/ind.cora.ally\n",
            "Downloading https://github.com/kimiyoung/planetoid/raw/master/data/ind.cora.graph\n",
            "Downloading https://github.com/kimiyoung/planetoid/raw/master/data/ind.cora.test.index\n",
            "Processing...\n",
            "Done!\n"
          ]
        }
      ],
      "source": [
        "dataset = Planetoid(root=\"tutorial1\",name= \"Cora\")"
      ]
    },
    {
      "cell_type": "markdown",
      "metadata": {
        "id": "Y_rdDVsHgdnu"
      },
      "source": [
        "##### Dataset properties"
      ]
    },
    {
      "cell_type": "code",
      "execution_count": 5,
      "metadata": {
        "id": "e6gZxunjgdnu",
        "outputId": "478a1eec-8287-4ef4-c1f0-9d6f1e22cb3c",
        "colab": {
          "base_uri": "https://localhost:8080/"
        }
      },
      "outputs": [
        {
          "output_type": "stream",
          "name": "stdout",
          "text": [
            "Cora()\n",
            "number of graphs:\t\t 1\n",
            "number of classes:\t\t 7\n",
            "number of node features:\t 1433\n",
            "number of edge features:\t 0\n"
          ]
        }
      ],
      "source": [
        "print(dataset)\n",
        "print(\"number of graphs:\\t\\t\",len(dataset))\n",
        "print(\"number of classes:\\t\\t\",dataset.num_classes)\n",
        "print(\"number of node features:\\t\",dataset.num_node_features)\n",
        "print(\"number of edge features:\\t\",dataset.num_edge_features)"
      ]
    },
    {
      "cell_type": "markdown",
      "metadata": {
        "id": "GFY0Go8tgdnv"
      },
      "source": [
        "##### Dataset shapes"
      ]
    },
    {
      "cell_type": "code",
      "execution_count": 6,
      "metadata": {
        "id": "-IC0OTJJgdnv",
        "outputId": "928b0f1b-c75b-42a6-f1ed-e0c84254339b",
        "colab": {
          "base_uri": "https://localhost:8080/"
        }
      },
      "outputs": [
        {
          "output_type": "stream",
          "name": "stdout",
          "text": [
            "Data(x=[2708, 1433], edge_index=[2, 10556], y=[2708], train_mask=[2708], val_mask=[2708], test_mask=[2708])\n"
          ]
        },
        {
          "output_type": "stream",
          "name": "stderr",
          "text": [
            "/usr/local/lib/python3.11/dist-packages/torch_geometric/data/in_memory_dataset.py:300: UserWarning: It is not recommended to directly access the internal storage format `data` of an 'InMemoryDataset'. If you are absolutely certain what you are doing, access the internal storage via `InMemoryDataset._data` instead to suppress this warning. Alternatively, you can access stacked individual attributes of every graph via `dataset.{attr_name}`.\n",
            "  warnings.warn(msg)\n"
          ]
        }
      ],
      "source": [
        "print(dataset.data)"
      ]
    },
    {
      "cell_type": "code",
      "execution_count": 9,
      "metadata": {
        "id": "PfFw8zMqgdnv",
        "outputId": "89a147d2-0dd7-4347-e181-1dee63da4968",
        "colab": {
          "base_uri": "https://localhost:8080/"
        }
      },
      "outputs": [
        {
          "output_type": "stream",
          "name": "stdout",
          "text": [
            "edge_index:\t\t torch.Size([2, 10556])\n",
            "tensor([[ 633, 1862, 2582,  ...,  598, 1473, 2706],\n",
            "        [   0,    0,    0,  ..., 2707, 2707, 2707]])\n",
            "\n",
            "\n",
            "train_mask:\t\t torch.Size([2708])\n",
            "tensor([ True,  True,  True,  ..., False, False, False])\n",
            "\n",
            "\n",
            "x:\t\t torch.Size([2708, 1433])\n",
            "tensor([[0., 0., 0.,  ..., 0., 0., 0.],\n",
            "        [0., 0., 0.,  ..., 0., 0., 0.],\n",
            "        [0., 0., 0.,  ..., 0., 0., 0.],\n",
            "        ...,\n",
            "        [0., 0., 0.,  ..., 0., 0., 0.],\n",
            "        [0., 0., 0.,  ..., 0., 0., 0.],\n",
            "        [0., 0., 0.,  ..., 0., 0., 0.]])\n",
            "\n",
            "\n",
            "y:\t\t torch.Size([2708])\n",
            "tensor([3, 4, 4,  ..., 3, 3, 3])\n"
          ]
        }
      ],
      "source": [
        "print(\"edge_index:\\t\\t\",dataset.data.edge_index.shape)\n",
        "print(dataset.data.edge_index)\n",
        "print(\"\\n\")\n",
        "print(\"train_mask:\\t\\t\",dataset.data.train_mask.shape)\n",
        "print(dataset.data.train_mask)\n",
        "print(\"\\n\")\n",
        "print(\"x:\\t\\t\",dataset.data.x.shape)\n",
        "print(dataset.data.x)\n",
        "print(\"\\n\")\n",
        "print(\"y:\\t\\t\",dataset.data.y.shape)\n",
        "print(dataset.data.y)"
      ]
    },
    {
      "cell_type": "code",
      "execution_count": 10,
      "metadata": {
        "id": "vFE4-V5Fgdnw"
      },
      "outputs": [],
      "source": [
        "import os.path as osp\n",
        "\n",
        "import torch\n",
        "import torch.nn.functional as F\n",
        "from torch_geometric.nn import SAGEConv\n"
      ]
    },
    {
      "cell_type": "code",
      "execution_count": 11,
      "metadata": {
        "id": "UO-qv4iUgdnw"
      },
      "outputs": [],
      "source": [
        "data = dataset[0]"
      ]
    },
    {
      "cell_type": "code",
      "execution_count": 12,
      "metadata": {
        "id": "cByBNy5Tgdnw"
      },
      "outputs": [],
      "source": [
        "class Net(torch.nn.Module):\n",
        "    def __init__(self):\n",
        "        super(Net, self).__init__()\n",
        "\n",
        "        self.conv = SAGEConv(dataset.num_features,\n",
        "                             dataset.num_classes,\n",
        "                             aggr=\"max\") # max, mean, add ...)\n",
        "\n",
        "    def forward(self):\n",
        "        x = self.conv(data.x, data.edge_index)\n",
        "        return F.log_softmax(x, dim=1)\n",
        ""
      ]
    },
    {
      "cell_type": "code",
      "execution_count": 13,
      "metadata": {
        "scrolled": true,
        "id": "XPUgm2TOgdnw"
      },
      "outputs": [],
      "source": [
        "device = torch.device('cuda' if torch.cuda.is_available() and use_cuda_if_available else 'cpu')\n",
        "model, data = Net().to(device), data.to(device)\n",
        "optimizer = torch.optim.Adam(model.parameters(), lr=0.01, weight_decay=5e-4)"
      ]
    },
    {
      "cell_type": "code",
      "execution_count": 14,
      "metadata": {
        "id": "Cwr-rPqOgdnw",
        "outputId": "7f3371e9-2cac-48c3-c2d4-44697e40a8d2",
        "colab": {
          "base_uri": "https://localhost:8080/"
        }
      },
      "outputs": [
        {
          "output_type": "execute_result",
          "data": {
            "text/plain": [
              "device(type='cpu')"
            ]
          },
          "metadata": {},
          "execution_count": 14
        }
      ],
      "source": [
        "device"
      ]
    },
    {
      "cell_type": "code",
      "execution_count": 15,
      "metadata": {
        "id": "GFHJkQYVgdnw"
      },
      "outputs": [],
      "source": [
        "def train():\n",
        "    model.train()\n",
        "    optimizer.zero_grad()\n",
        "    F.nll_loss(model()[data.train_mask], data.y[data.train_mask]).backward()\n",
        "    optimizer.step()\n",
        "\n",
        "\n",
        "def test():\n",
        "    model.eval()\n",
        "    logits, accs = model(), []\n",
        "    for _, mask in data('train_mask', 'val_mask', 'test_mask'):\n",
        "        pred = logits[mask].max(1)[1]\n",
        "        acc = pred.eq(data.y[mask]).sum().item() / mask.sum().item()\n",
        "        accs.append(acc)\n",
        "    return accs"
      ]
    },
    {
      "cell_type": "code",
      "execution_count": 16,
      "metadata": {
        "id": "qN48W9Rlgdnw",
        "outputId": "a2c9c640-3dc1-4562-caea-64d6806f271b",
        "colab": {
          "base_uri": "https://localhost:8080/"
        }
      },
      "outputs": [
        {
          "output_type": "stream",
          "name": "stdout",
          "text": [
            "Epoch: 010, Val: 0.7160, Test: 0.7100\n",
            "Epoch: 020, Val: 0.7180, Test: 0.7110\n",
            "Epoch: 030, Val: 0.7180, Test: 0.7110\n",
            "Epoch: 040, Val: 0.7200, Test: 0.7050\n",
            "Epoch: 050, Val: 0.7220, Test: 0.7060\n",
            "Epoch: 060, Val: 0.7240, Test: 0.7080\n",
            "Epoch: 070, Val: 0.7260, Test: 0.7100\n",
            "Epoch: 080, Val: 0.7260, Test: 0.7100\n",
            "Epoch: 090, Val: 0.7260, Test: 0.7100\n"
          ]
        }
      ],
      "source": [
        "best_val_acc = test_acc = 0\n",
        "for epoch in range(1,100):\n",
        "    train()\n",
        "    _, val_acc, tmp_test_acc = test()\n",
        "    if val_acc > best_val_acc:\n",
        "        best_val_acc = val_acc\n",
        "        test_acc = tmp_test_acc\n",
        "    log = 'Epoch: {:03d}, Val: {:.4f}, Test: {:.4f}'\n",
        "\n",
        "    if epoch % 10 == 0:\n",
        "        print(log.format(epoch, best_val_acc, test_acc))"
      ]
    }
  ],
  "metadata": {
    "kernelspec": {
      "display_name": "Python 3",
      "language": "python",
      "name": "python3"
    },
    "language_info": {
      "codemirror_mode": {
        "name": "ipython",
        "version": 3
      },
      "file_extension": ".py",
      "mimetype": "text/x-python",
      "name": "python",
      "nbconvert_exporter": "python",
      "pygments_lexer": "ipython3",
      "version": "3.9.12"
    },
    "colab": {
      "provenance": [],
      "include_colab_link": true
    }
  },
  "nbformat": 4,
  "nbformat_minor": 0
}